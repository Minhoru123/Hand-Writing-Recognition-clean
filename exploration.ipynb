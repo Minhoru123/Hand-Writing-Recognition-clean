{
 "cells": [
  {
   "cell_type": "code",
   "execution_count": 2,
   "metadata": {},
   "outputs": [
    {
     "name": "stdout",
     "output_type": "stream",
     "text": [
      "Not enough images in the folder. Available: 0, Requested: 5\n",
      "['train']\n"
     ]
    }
   ],
   "source": [
    "import matplotlib.pyplot as plt \n",
    "import cv2\n",
    "import os\n",
    "import random\n",
    "\n",
    "def display_random_images(folder, num_samples=5):\n",
    "    # Get the list of image files in the folder\n",
    "    image_files = [f for f in os.listdir(folder) if f.endswith('.jpg')]\n",
    "    \n",
    "    # Check if there are enough images to sample from\n",
    "    if len(image_files) < num_samples:\n",
    "        print(f\"Not enough images in the folder. Available: {len(image_files)}, Requested: {num_samples}\")\n",
    "        num_samples = len(image_files)  # Adjust to the number of available images\n",
    "\n",
    "    # Randomly sample the images\n",
    "    random_samples = random.sample(image_files, num_samples)\n",
    "\n",
    "    # Display each sampled image\n",
    "    for img_file in random_samples:\n",
    "        img_path = os.path.join(folder, img_file)\n",
    "        image = cv2.imread(img_path, cv2.IMREAD_GRAYSCALE)\n",
    "        plt.imshow(image, cmap='gray')\n",
    "        plt.title(img_file)\n",
    "        plt.axis('off')  # Hide the axis\n",
    "        plt.show()\n",
    "\n",
    "# Example usage\n",
    "display_random_images('data/train_v2/', num_samples=5)\n",
    "print(os.listdir('data/train_v2/'))"
   ]
  },
  {
   "cell_type": "code",
   "execution_count": null,
   "metadata": {},
   "outputs": [],
   "source": []
  },
  {
   "cell_type": "code",
   "execution_count": null,
   "metadata": {},
   "outputs": [],
   "source": []
  }
 ],
 "metadata": {
  "kernelspec": {
   "display_name": "myenv",
   "language": "python",
   "name": "python3"
  },
  "language_info": {
   "codemirror_mode": {
    "name": "ipython",
    "version": 3
   },
   "file_extension": ".py",
   "mimetype": "text/x-python",
   "name": "python",
   "nbconvert_exporter": "python",
   "pygments_lexer": "ipython3",
   "version": "3.11.9"
  }
 },
 "nbformat": 4,
 "nbformat_minor": 2
}
